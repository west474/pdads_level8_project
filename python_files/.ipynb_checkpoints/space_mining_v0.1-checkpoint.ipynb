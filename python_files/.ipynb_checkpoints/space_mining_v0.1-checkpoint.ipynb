{
 "cells": [
  {
   "cell_type": "code",
   "execution_count": 1,
   "id": "14d5f09d-171d-458e-8fe2-dc2d82fa769e",
   "metadata": {},
   "outputs": [
    {
     "data": {
      "text/plain": [
       "True"
      ]
     },
     "execution_count": 1,
     "metadata": {},
     "output_type": "execute_result"
    }
   ],
   "source": [
    "# imports for the notebook\n",
    "import os.path\n",
    "import pandas as pd\n",
    "\n",
    "# This will return true if file exists\n",
    "sbdb_csv = \"C:\\\\Users\\\\rlwes\\\\Downloads\\\\temp\\\\datascience\\\\group_project\\\\csv_files\\\\sbdb_query_results.csv\"\n",
    "os.path.exists(sbdb_csv)"
   ]
  },
  {
   "cell_type": "code",
   "execution_count": 2,
   "id": "45fafa4f-bfaa-4389-91ee-13504d32e23c",
   "metadata": {},
   "outputs": [
    {
     "name": "stdout",
     "output_type": "stream",
     "text": [
      "          spkid                    full_name      pdes       name prefix neo  \\\n",
      "0      20000433           433 Eros (A898 PA)       433       Eros    NaN   Y   \n",
      "1      20000719         719 Albert (A911 TB)       719     Albert    NaN   Y   \n",
      "2      20000887         887 Alinda (A918 AA)       887     Alinda    NaN   Y   \n",
      "3      20001036       1036 Ganymed (A924 UB)      1036    Ganymed    NaN   Y   \n",
      "4      20001221         1221 Amor (1932 EA1)      1221       Amor    NaN   Y   \n",
      "...         ...                          ...       ...        ...    ...  ..   \n",
      "38102   1003804            P/2021 Q5 (ATLAS)   2021 Q5      ATLAS      P   Y   \n",
      "38103   1003914            C/2023 E1 (ATLAS)   2023 E1      ATLAS      C   Y   \n",
      "38104   1003954           C/2023 S3 (Lemmon)   2023 S3     Lemmon      C   Y   \n",
      "38105   1004010           P/2024 L4 (Rankin)   2024 L4     Rankin      P   Y   \n",
      "38106   1004036       P/2024 OC2 (PANSTARRS)  2024 OC2  PANSTARRS      P   Y   \n",
      "\n",
      "       pha  sats      H     G  ...      rms  two_body            A1  \\\n",
      "0        N     0  10.41  0.46  ...  0.29796       NaN           NaN   \n",
      "1        N     0  15.59   NaN  ...  0.40563       NaN           NaN   \n",
      "2        N     0  13.80 -0.12  ...  0.25988       NaN           NaN   \n",
      "3        N     0   9.18  0.30  ...  0.31764       NaN           NaN   \n",
      "4        N     0  17.37   NaN  ...  0.40562       NaN           NaN   \n",
      "...    ...   ...    ...   ...  ...      ...       ...           ...   \n",
      "38102  NaN     0    NaN   NaN  ...  0.76660       NaN           NaN   \n",
      "38103  NaN     0    NaN   NaN  ...  0.49369       NaN  3.400000e-09   \n",
      "38104  NaN     0    NaN   NaN  ...  0.46366       NaN           NaN   \n",
      "38105  NaN     0    NaN   NaN  ...  0.33404       NaN           NaN   \n",
      "38106  NaN     0    NaN   NaN  ...  0.61230       NaN           NaN   \n",
      "\n",
      "           A1_sigma            A2      A2_sigma            A3      A3_sigma  \\\n",
      "0               NaN           NaN           NaN           NaN           NaN   \n",
      "1               NaN           NaN           NaN           NaN           NaN   \n",
      "2               NaN           NaN           NaN           NaN           NaN   \n",
      "3               NaN           NaN           NaN           NaN           NaN   \n",
      "4               NaN -7.200000e-15  2.100000e-15           NaN           NaN   \n",
      "...             ...           ...           ...           ...           ...   \n",
      "38102           NaN           NaN           NaN           NaN           NaN   \n",
      "38103  4.800000e-10 -3.000000e-10  2.200000e-10  2.100000e-09  1.900000e-10   \n",
      "38104           NaN           NaN           NaN           NaN           NaN   \n",
      "38105           NaN           NaN           NaN           NaN           NaN   \n",
      "38106           NaN           NaN           NaN           NaN           NaN   \n",
      "\n",
      "       DT  DT_sigma  \n",
      "0     NaN       NaN  \n",
      "1     NaN       NaN  \n",
      "2     NaN       NaN  \n",
      "3     NaN       NaN  \n",
      "4     NaN       NaN  \n",
      "...    ..       ...  \n",
      "38102 NaN       NaN  \n",
      "38103 NaN       NaN  \n",
      "38104 NaN       NaN  \n",
      "38105 NaN       NaN  \n",
      "38106 NaN       NaN  \n",
      "\n",
      "[38107 rows x 79 columns]\n"
     ]
    },
    {
     "name": "stderr",
     "output_type": "stream",
     "text": [
      "C:\\Users\\rlwes\\AppData\\Local\\Temp\\ipykernel_6324\\2535923711.py:2: DtypeWarning: Columns (3,4,16,23,24,70) have mixed types. Specify dtype option on import or set low_memory=False.\n",
      "  df = pd.read_csv(r'C:\\\\Users\\\\rlwes\\\\Downloads\\\\temp\\\\datascience\\\\group_project\\\\csv_files\\\\sbdb_query_results.csv')\n"
     ]
    }
   ],
   "source": [
    "# Create the dataframe\n",
    "df = pd.read_csv(r'C:\\\\Users\\\\rlwes\\\\Downloads\\\\temp\\\\datascience\\\\group_project\\\\csv_files\\\\sbdb_query_results.csv')\n",
    "print(df.describe())"
   ]
  },
  {
   "cell_type": "code",
   "execution_count": null,
   "id": "2968fbf8-07fe-4dbc-9d14-25f28c22ad20",
   "metadata": {},
   "outputs": [],
   "source": []
  }
 ],
 "metadata": {
  "kernelspec": {
   "display_name": "Python 3 (ipykernel)",
   "language": "python",
   "name": "python3"
  },
  "language_info": {
   "codemirror_mode": {
    "name": "ipython",
    "version": 3
   },
   "file_extension": ".py",
   "mimetype": "text/x-python",
   "name": "python",
   "nbconvert_exporter": "python",
   "pygments_lexer": "ipython3",
   "version": "3.13.0"
  }
 },
 "nbformat": 4,
 "nbformat_minor": 5
}
