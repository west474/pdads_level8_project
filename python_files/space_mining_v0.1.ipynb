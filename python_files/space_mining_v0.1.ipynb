{
 "cells": [
  {
   "cell_type": "code",
   "execution_count": 6,
   "id": "14d5f09d-171d-458e-8fe2-dc2d82fa769e",
   "metadata": {},
   "outputs": [
    {
     "data": {
      "text/plain": [
       "True"
      ]
     },
     "execution_count": 6,
     "metadata": {},
     "output_type": "execute_result"
    }
   ],
   "source": [
    "# imports for the notebook.\n",
    "import os.path\n",
    "import pandas as pd\n",
    "\n",
    "# This will return true if file exists.\n",
    "sbdb_csv = \"C:\\\\Users\\\\rlwes\\\\Downloads\\\\temp\\\\datascience\\\\group_project\\\\csv_files\\\\sbdb_query_results.csv\"\n",
    "os.path.exists(sbdb_csv)"
   ]
  },
  {
   "cell_type": "code",
   "execution_count": null,
   "id": "45fafa4f-bfaa-4389-91ee-13504d32e23c",
   "metadata": {},
   "outputs": [
    {
     "name": "stdout",
     "output_type": "stream",
     "text": [
      "38107\n"
     ]
    },
    {
     "name": "stderr",
     "output_type": "stream",
     "text": [
      "C:\\Users\\rlwes\\AppData\\Local\\Temp\\ipykernel_11552\\1441584673.py:2: DtypeWarning: Columns (3,4,16,23,24,70) have mixed types. Specify dtype option on import or set low_memory=False.\n",
      "  df = pd.read_csv(r'C:\\\\Users\\\\rlwes\\\\Downloads\\\\temp\\\\datascience\\\\group_project\\\\csv_files\\\\sbdb_query_results.csv')\n"
     ]
    }
   ],
   "source": [
    "# Create the dataframe.\n",
    "df = pd.read_csv(r'C:\\\\Users\\\\rlwes\\\\Downloads\\\\temp\\\\datascience\\\\group_project\\\\csv_files\\\\sbdb_query_results.csv')\n",
    "\n",
    "# list the relevant columns for our investigation.\n",
    "columns_to_keep = [\n",
    "    'spkid', 'pdes', 'neo', 'diameter', 'class', 'first_obs', 'last_obs', 'spec_B', 'spec_T'\n",
    "]\n",
    "\n",
    "# adjust the df to only include the columns we want.\n",
    "df = df[columns_to_keep]\n",
    "\n",
    "print(len(df))"
   ]
  },
  {
   "cell_type": "code",
   "execution_count": null,
   "id": "2968fbf8-07fe-4dbc-9d14-25f28c22ad20",
   "metadata": {},
   "outputs": [
    {
     "name": "stdout",
     "output_type": "stream",
     "text": [
      "38107\n"
     ]
    }
   ],
   "source": [
    "# clean the data.\n",
    "\n",
    "# convert data types to resolve data type warning.\n",
    "df = df.astype({\n",
    "    'spkid': str,\n",
    "    'pdes': str,\n",
    "    'neo': str,\n",
    "    'diameter': float,\n",
    "    'class': str,\n",
    "    'first_obs': str,\n",
    "    'last_obs': str,\n",
    "    'spec_B': str,\n",
    "    'spec_T': str\n",
    "})"
   ]
  },
  {
   "cell_type": "markdown",
   "id": "bc4b9c08",
   "metadata": {},
   "source": []
  }
 ],
 "metadata": {
  "kernelspec": {
   "display_name": "Python 3",
   "language": "python",
   "name": "python3"
  },
  "language_info": {
   "codemirror_mode": {
    "name": "ipython",
    "version": 3
   },
   "file_extension": ".py",
   "mimetype": "text/x-python",
   "name": "python",
   "nbconvert_exporter": "python",
   "pygments_lexer": "ipython3",
   "version": "3.13.0"
  }
 },
 "nbformat": 4,
 "nbformat_minor": 5
}
